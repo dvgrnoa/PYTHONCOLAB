{
  "nbformat": 4,
  "nbformat_minor": 0,
  "metadata": {
    "colab": {
      "name": "ListasenPildoras.ipynb",
      "provenance": [],
      "authorship_tag": "ABX9TyNEv8Ysy27bBwRshiIEAwTF",
      "include_colab_link": true
    },
    "kernelspec": {
      "name": "python3",
      "display_name": "Python 3"
    },
    "language_info": {
      "name": "python"
    }
  },
  "cells": [
    {
      "cell_type": "markdown",
      "metadata": {
        "id": "view-in-github",
        "colab_type": "text"
      },
      "source": [
        "<a href=\"https://colab.research.google.com/github/dvgr78/PYTHONCOLAB/blob/main/ListasenPildoras.ipynb\" target=\"_parent\"><img src=\"https://colab.research.google.com/assets/colab-badge.svg\" alt=\"Open In Colab\"/></a>"
      ]
    },
    {
      "cell_type": "markdown",
      "metadata": {
        "id": "IE88pTdU6MSv"
      },
      "source": [
        "## VEREMOS EN FUNCIONAMIENTO DE LISTAS\n",
        "\n",
        "Se reservan estructuras de memoria para almacenar los datos.\n",
        "\n",
        "En Python se pueden guardar distintos tipo s de valores y además se pueden expandir dinámicamente.\n",
        "\n",
        "Sintaxis: nombre_lista=[elemento1,elemento2,elemento3,.........]\n",
        "\n",
        "índices: nombre_lista[0]--> elemento1\n",
        "\n",
        "índices:       nombre_lista[1]--> elemento 2\n",
        "\n"
      ]
    },
    {
      "cell_type": "code",
      "metadata": {
        "id": "YMyvXTlV6aah"
      },
      "source": [
        ""
      ],
      "execution_count": null,
      "outputs": []
    }
  ]
}